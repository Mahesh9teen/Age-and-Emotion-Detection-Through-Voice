{
 "cells": [
  {
   "cell_type": "code",
   "execution_count": null,
   "metadata": {},
   "outputs": [],
   "source": [
    "import pandas as pd\n",
    "import numpy as np\n",
    "import tensorflow as tn\n",
    "import tkinter as tk\n",
    "import matplotlib.pyplot as plt\n",
    "import seaborn as sns\n",
    "from sklearn.model_selection import train_test_split\n",
    "from sklearn.svm import SVC\n",
    "from sklearn.tree import DecisionTreeClassifier\n",
    "from sklearn.ensemble import RandomForestClassifier\n",
    "from sklearn.feature_selection import SelectKBest,f_classif\n",
    "from sklearn.pipeline import make_pipeline"
   ]
  },
  {
   "cell_type": "markdown",
   "metadata": {},
   "source": [
    "###Gennder "
   ]
  },
  {
   "cell_type": "code",
   "execution_count": null,
   "metadata": {},
   "outputs": [],
   "source": [
    "df=pd.read_csv(\"cleaned_gender.csv\")\n",
    "df.head()"
   ]
  },
  {
   "cell_type": "code",
   "execution_count": null,
   "metadata": {},
   "outputs": [],
   "source": [
    "print(df.isnull().sum())"
   ]
  },
  {
   "cell_type": "code",
   "execution_count": null,
   "metadata": {},
   "outputs": [],
   "source": [
    "df.shape"
   ]
  },
  {
   "cell_type": "code",
   "execution_count": null,
   "metadata": {},
   "outputs": [],
   "source": [
    "df.describe()"
   ]
  },
  {
   "cell_type": "code",
   "execution_count": null,
   "metadata": {},
   "outputs": [],
   "source": [
    "df.label.value_counts()"
   ]
  },
  {
   "cell_type": "code",
   "execution_count": null,
   "metadata": {},
   "outputs": [],
   "source": [
    "print(df.info())"
   ]
  },
  {
   "cell_type": "code",
   "execution_count": null,
   "metadata": {},
   "outputs": [],
   "source": [
    "#function\n",
    "dict={'label':{'male':1,'female':0}}\n",
    "df.replace(dict,inplace=True)\n",
    "X=df.loc[:,df.columns !='label']\n",
    "y=df.loc[:,'label']"
   ]
  },
  {
   "cell_type": "code",
   "execution_count": null,
   "metadata": {},
   "outputs": [],
   "source": [
    "#corelaton\n",
    "corr_matrix=df.corr()\n",
    "plt.figure(figsize=(15,10))\n",
    "sns.heatmap(corr_matrix,annot=True,linewidths=0.5,fmt=\".2f\",cmap=\"gray\")\n"
   ]
  },
  {
   "cell_type": "code",
   "execution_count": null,
   "metadata": {},
   "outputs": [],
   "source": [
    "X_train,X_test,y_train,y_test=train_test_split(X, y)\n",
    "svm_c=1000\n",
    "svm_gamma=0.01\n",
    "dtc_md=5\n",
    "rfc_M=8\n",
    "rfc_d=8\n",
    "rfc_m=6\n",
    "model_acc=[]"
   ]
  },
  {
   "cell_type": "code",
   "execution_count": null,
   "metadata": {},
   "outputs": [],
   "source": [
    "SVM_model=SVC(C=svm_c,gamma=svm_gamma).fit(X_train,y_train)\n",
    "train_acc=SVM_model.score(X_train,y_train)\n",
    "test_acc=SVM_model.score(X_test,y_test)\n",
    "m='SVM'\n",
    "model_acc.append([m,train_acc,test_acc])\n",
    "\n",
    "DTC_model=DecisionTreeClassifier(max_depth=dtc_md).fit(X_train,y_train)\n",
    "train_acc=DTC_model.score(X_train,y_train)\n",
    "test_acc=DTC_model.score(X_test,y_test)\n",
    "m='DTC'\n",
    "model_acc.append([m,train_acc,test_acc])\n",
    "\n",
    "RFC_model=RandomForestClassifier(n_estimators=rfc_M,max_features=rfc_d,max_depth=rfc_m,random_state=0,).fit(X_train,y_train)\n",
    "train_acc=RFC_model.score(X_train,y_train)\n",
    "test_acc=RFC_model.score(X_test,y_test)\n",
    "m='RFC'\n",
    "model_acc.append([m,train_acc,test_acc])\n",
    "\n",
    "\n",
    "print(\"Feature importance of DecisionTreeClassifire: \")\n",
    "np.array([X.columns.values.tolist(),list(DTC_model.feature_importances_)]).T"
   ]
  },
  {
   "cell_type": "code",
   "execution_count": null,
   "metadata": {},
   "outputs": [],
   "source": [
    "importances=DTC_model.feature_importances_\n",
    "indices=np.argsort(importances)\n",
    "plt.figure(figsize=(10,6))\n",
    "plt.barh(range(len(indices)),importances[indices],align='center')\n",
    "plt.yticks(range(len(indices)),df.columns[indices])\n",
    "plt.title('Feature importances')\n",
    "print(\"Feature importance of Random Forest classifier:\")\n",
    "np.array([X.columns.values.tolist(),list(RFC_model.feature_importances_)]).T"
   ]
  },
  {
   "cell_type": "code",
   "execution_count": null,
   "metadata": {},
   "outputs": [],
   "source": [
    "importances=RFC_model.feature_importances_\n",
    "indices=np.argsort(importances)\n",
    "plt.figure(figsize=(10,6))\n",
    "plt.barh(range(len(indices)),importances[indices],align='center')\n",
    "plt.yticks(range(len(indices)),df.columns[indices])\n",
    "plt.title('Feature Importance')"
   ]
  },
  {
   "cell_type": "code",
   "execution_count": null,
   "metadata": {},
   "outputs": [],
   "source": [
    "result=pd.DataFrame(model_acc,columns=['Model','Training Accuracy','Validation Accuracy'])\n",
    "result[['Model','Training Accuracy','Validation Accuracy']]"
   ]
  },
  {
   "cell_type": "code",
   "execution_count": null,
   "metadata": {},
   "outputs": [],
   "source": [
    "df_new=df[['meanfun','sd','Q25','IQR','mode','median','label']]\n",
    "df_new.head()"
   ]
  },
  {
   "cell_type": "code",
   "execution_count": null,
   "metadata": {},
   "outputs": [],
   "source": [
    "X = df_new.loc[:, df_new.columns != 'label']\n",
    "y = df_new.loc[:,'label']\n",
    "X_train,X_test,y_train,y_test=train_test_split(X,y)"
   ]
  },
  {
   "cell_type": "code",
   "execution_count": null,
   "metadata": {},
   "outputs": [],
   "source": [
    "\n",
    "feat_rf=RandomForestClassifier(n_estimators=100,max_depth=50,random_state=0)\n",
    "feat_his=feat_rf.fit(X_train,y_train)\n",
    "feat_his=feat_rf.fit(X_test,y_test)\n",
    "anova_filter=SelectKBest(f_classif,k=6)\n",
    "clf=RandomForestClassifier(n_estimators=rfc_M,max_features=6,max_depth=rfc_m,random_state=0)\n",
    "anova_svm=make_pipeline(anova_filter,clf)\n",
    "anova_svm.fit(X_train,y_train)\n",
    "\n",
    "print(anova_svm.score(X_train,y_train))\n",
    "print(anova_svm.score(X_test,y_test))"
   ]
  },
  {
   "cell_type": "markdown",
   "metadata": {},
   "source": [
    "###Age"
   ]
  },
  {
   "cell_type": "code",
   "execution_count": null,
   "metadata": {},
   "outputs": [],
   "source": [
    "df=pd.read_csv(\"cleaned_age.csv\")\n",
    "df.head()"
   ]
  },
  {
   "cell_type": "code",
   "execution_count": null,
   "metadata": {},
   "outputs": [],
   "source": [
    "print(df.isnull().sum())"
   ]
  },
  {
   "cell_type": "code",
   "execution_count": null,
   "metadata": {},
   "outputs": [],
   "source": [
    "df.shape"
   ]
  },
  {
   "cell_type": "code",
   "execution_count": null,
   "metadata": {},
   "outputs": [],
   "source": [
    "df.describe()"
   ]
  },
  {
   "cell_type": "code",
   "execution_count": null,
   "metadata": {},
   "outputs": [],
   "source": [
    "df.label.value_counts()"
   ]
  },
  {
   "cell_type": "code",
   "execution_count": null,
   "metadata": {},
   "outputs": [],
   "source": [
    "print(df.info())"
   ]
  },
  {
   "cell_type": "code",
   "execution_count": null,
   "metadata": {},
   "outputs": [],
   "source": [
    "dict={'label':{'old':2,'matured':1,'young':0}}\n",
    "df.replace(dict,inplace=True)\n",
    "X=df.loc[:,df.columns !='label']\n",
    "y=df.loc[:,'label']\n"
   ]
  },
  {
   "cell_type": "code",
   "execution_count": null,
   "metadata": {},
   "outputs": [],
   "source": [
    "corr_matrix=df.corr()\n",
    "plt.figure(figsize=(15,10))\n",
    "sns.heatmap(corr_matrix,annot=True,linewidths=0.5,fmt=\".2f\",cmap=\"gray\")"
   ]
  },
  {
   "cell_type": "code",
   "execution_count": null,
   "metadata": {},
   "outputs": [],
   "source": [
    "X_train,X_test,y_train,y_test=train_test_split(X,y)\n",
    "svm_c=10\n",
    "svm_gamma=0.1\n",
    "dtc_md=8\n",
    "rfc_M=14\n",
    "rfc_d=14\n",
    "rfc_m=16\n",
    "model_acc=[]"
   ]
  },
  {
   "cell_type": "code",
   "execution_count": null,
   "metadata": {},
   "outputs": [],
   "source": [
    "SVM_model = SVC(C=svm_c, gamma=svm_gamma).fit(X_train, y_train)\n",
    "train_acc = SVM_model.score(X_train, y_train)\n",
    "test_acc = SVM_model.score(X_test, y_test)\n",
    "m = 'SVM'\n",
    "model_acc.append([m, train_acc, test_acc])\n",
    "\n",
    "DTC_model = DecisionTreeClassifier(max_depth=dtc_md).fit(X_train, y_train)\n",
    "train_acc = DTC_model.score(X_train, y_train)\n",
    "test_acc = DTC_model.score(X_test, y_test)\n",
    "m = 'Decision Tree Classifier'\n",
    "model_acc.append([m, train_acc, test_acc])\n",
    "\n",
    "RFC_model = RandomForestClassifier(n_estimators=rfc_M, max_features=rfc_d, max_depth=rfc_m, random_state=0).fit(X_train, y_train)\n",
    "train_acc = RFC_model.score(X_train, y_train)\n",
    "test_acc = RFC_model.score(X_test, y_test)\n",
    "m = 'Random Forest Classifier'\n",
    "model_acc.append([m, train_acc, test_acc])"
   ]
  },
  {
   "cell_type": "code",
   "execution_count": null,
   "metadata": {},
   "outputs": [],
   "source": [
    "print('Feature importance:')\n",
    "np.array([X.columns.values.tolist(),list(DTC_model.feature_importances_)]).T"
   ]
  },
  {
   "cell_type": "code",
   "execution_count": null,
   "metadata": {},
   "outputs": [],
   "source": [
    "importances=DTC_model.feature_importances_\n",
    "indices=np.argsort(importances)\n",
    "plt.figure(figsize=(10,6))\n",
    "plt.barh(range(len(indices)),importances[indices],align='center')\n",
    "plt.yticks(range(len(indices)),df.columns[indices])\n",
    "plt.title('Feature importance')\n",
    "np.array([X.columns.values.tolist(),list(DTC_model.feature_importances_)]).T"
   ]
  },
  {
   "cell_type": "code",
   "execution_count": null,
   "metadata": {},
   "outputs": [],
   "source": [
    "importances=RFC_model.feature_importances_\n",
    "indices=np.argsort(importances)\n",
    "plt.figure(figsize=(10,6))\n",
    "plt.barh(range(len(indices)),importances[indices],align='center')\n",
    "plt.yticks(range(len(indices)),df.columns[indices])\n",
    "plt.title('Feature importance')\n"
   ]
  },
  {
   "cell_type": "code",
   "execution_count": null,
   "metadata": {},
   "outputs": [],
   "source": [
    "result=pd.DataFrame(model_acc,columns=['Model','Training Accuracy','Validation Accuracy'])\n",
    "result[['Model','Training Accuracy','Validation Accuracy']]"
   ]
  },
  {
   "cell_type": "markdown",
   "metadata": {},
   "source": [
    "###Emotion"
   ]
  },
  {
   "cell_type": "code",
   "execution_count": null,
   "metadata": {},
   "outputs": [],
   "source": [
    "df=pd.read_csv(\"cleaned_emotion.csv\")\n",
    "df.head()"
   ]
  },
  {
   "cell_type": "code",
   "execution_count": null,
   "metadata": {},
   "outputs": [],
   "source": [
    "print(df.isnull().sum())"
   ]
  },
  {
   "cell_type": "code",
   "execution_count": null,
   "metadata": {},
   "outputs": [],
   "source": [
    "df.shape"
   ]
  },
  {
   "cell_type": "code",
   "execution_count": null,
   "metadata": {},
   "outputs": [],
   "source": [
    "df.describe()"
   ]
  },
  {
   "cell_type": "code",
   "execution_count": null,
   "metadata": {},
   "outputs": [],
   "source": [
    "df.label.value_counts()"
   ]
  },
  {
   "cell_type": "code",
   "execution_count": null,
   "metadata": {},
   "outputs": [],
   "source": [
    "print(df.info())"
   ]
  },
  {
   "cell_type": "code",
   "execution_count": null,
   "metadata": {},
   "outputs": [],
   "source": [
    "dict={'label':{'sad':0,'angry':1,'happy':2}}\n",
    "df.replace(dict,inplace=True)\n",
    "X=df.loc[:,df.columns !='label']\n",
    "y=df.loc[:,'label']"
   ]
  },
  {
   "cell_type": "code",
   "execution_count": null,
   "metadata": {},
   "outputs": [],
   "source": [
    "corr_matrix=df.corr()\n",
    "plt.figure(figsize=(15,10))\n",
    "sns.heatmap(corr_matrix,annot=True,linewidths=0.5,fmt='0.2f',cmap='gray')"
   ]
  },
  {
   "cell_type": "code",
   "execution_count": null,
   "metadata": {},
   "outputs": [],
   "source": [
    "X_train,X_test,y_train,y_test=train_test_split(X,y)\n",
    "svm_c=1000\n",
    "svm_gamma=0.01\n",
    "dtc_md=4\n",
    "rfc_M=14\n",
    "rfc_d=8\n",
    "rfc_m=16\n",
    "model_acc=[]"
   ]
  },
  {
   "cell_type": "code",
   "execution_count": null,
   "metadata": {},
   "outputs": [],
   "source": [
    "SVM_model = SVC(C=svm_c, gamma=svm_gamma).fit(X_train, y_train)\n",
    "train_acc = SVM_model.score(X_train, y_train)\n",
    "test_acc = SVM_model.score(X_test, y_test)\n",
    "m = 'SVM'\n",
    "model_acc.append([m, train_acc, test_acc])\n",
    "\n",
    "DTC_model = DecisionTreeClassifier(max_depth=dtc_md).fit(X_train, y_train)\n",
    "train_acc = DTC_model.score(X_train, y_train)\n",
    "test_acc = DTC_model.score(X_test, y_test)\n",
    "m = 'DecisionTreeClassifier'\n",
    "model_acc.append([m, train_acc, test_acc])\n",
    "\n",
    "RFC_model = RandomForestClassifier(n_estimators=rfc_M, max_features=rfc_d, max_depth=rfc_m, random_state=0).fit(X_train, y_train)\n",
    "train_acc = RFC_model.score(X_train, y_train)\n",
    "test_acc = RFC_model.score(X_test, y_test)\n",
    "m = 'RandomForestClassifier'\n",
    "model_acc.append([m, train_acc, test_acc])\n"
   ]
  },
  {
   "cell_type": "code",
   "execution_count": null,
   "metadata": {},
   "outputs": [],
   "source": [
    "print('feature imporance:')\n",
    "np.array([X.columns.values.tolist(),list(DTC_model.feature_importances_)]).T"
   ]
  },
  {
   "cell_type": "code",
   "execution_count": null,
   "metadata": {},
   "outputs": [],
   "source": [
    "importances=DTC_model.feature_importances_\n",
    "indices=np.argsort(importances)\n",
    "plt.figure(figsize=(10,6))\n",
    "plt.barh(range(len(indices)),importances[indices],align='center')\n",
    "plt.yticks(range(len(indices)),df.columns[indices])\n",
    "plt.title('Feature importance')\n",
    "np.array([X.columns.values.tolist(),list(RFC_model.feature_importances_)]).T"
   ]
  },
  {
   "cell_type": "code",
   "execution_count": null,
   "metadata": {},
   "outputs": [],
   "source": [
    "importances=RFC_model.feature_importances_\n",
    "indices=np.argsort(importances)\n",
    "plt.figure(figsize=(10,6))\n",
    "plt.barh(range(len(indices)),importances[indices],align='center')\n",
    "plt.yticks(range(len(indices)),df.columns[indices])\n",
    "plt.title('Feature importance')"
   ]
  },
  {
   "cell_type": "code",
   "execution_count": null,
   "metadata": {},
   "outputs": [],
   "source": [
    "result=pd.DataFrame(model_acc,columns=['Model','Training Accuracy','Validation Accuracy'])\n",
    "result[['Model','Training Accuracy','Validation Accuracy']]"
   ]
  }
 ],
 "metadata": {
  "kernelspec": {
   "display_name": "Python 3",
   "language": "python",
   "name": "python3"
  },
  "language_info": {
   "codemirror_mode": {
    "name": "ipython",
    "version": 3
   },
   "file_extension": ".py",
   "mimetype": "text/x-python",
   "name": "python",
   "nbconvert_exporter": "python",
   "pygments_lexer": "ipython3",
   "version": "3.11.0"
  }
 },
 "nbformat": 4,
 "nbformat_minor": 2
}
